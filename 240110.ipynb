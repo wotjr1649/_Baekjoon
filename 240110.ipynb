{
 "cells": [
  {
   "cell_type": "code",
   "execution_count": 5,
   "metadata": {},
   "outputs": [
    {
     "name": "stdout",
     "output_type": "stream",
     "text": [
      "-1\n",
      "6\n"
     ]
    },
    {
     "ename": "",
     "evalue": "",
     "output_type": "error",
     "traceback": [
      "\u001b[1;31mThe Kernel crashed while executing code in the the current cell or a previous cell. Please review the code in the cell(s) to identify a possible cause of the failure. Click <a href='https://aka.ms/vscodeJupyterKernelCrash'>here</a> for more info. View Jupyter <a href='command:jupyter.viewOutput'>log</a> for further details."
     ]
    }
   ],
   "source": [
    "# 7576 토마토\n",
    "import sys\n",
    "sys.setrecursionlimit(10**6)\n",
    "sys.stdin = open('input.txt','r')\n",
    "input = sys.stdin.readline\n",
    "from collections import deque\n",
    "\n",
    "def bfs():\n",
    "  dx = [0,0,1,-1]\n",
    "  dy = [1,-1,0,0]\n",
    "\n",
    "  while queue:\n",
    "    x,y = queue.popleft()\n",
    "    for i in range(4):\n",
    "      nx, ny = x + dx[i], y + dy[i]\n",
    "      if 0 > nx or N <= nx or 0 > ny or M <= ny:\n",
    "        continue\n",
    "      if data[nx][ny] == 0:\n",
    "        data[nx][ny] = data[x][y] + 1\n",
    "        queue.append([nx,ny])\n",
    "\n",
    "M, N = map(int, input().split())\n",
    "data = [list(map(int,input().split())) for _ in range(N)]\n",
    "queue = deque([])\n",
    "result = 0\n",
    "\n",
    "for i in range(N):\n",
    "  for j in range(M):\n",
    "    if data[i][j] == 1:\n",
    "      queue.append((i,j))\n",
    "\n",
    "bfs()\n",
    "\n",
    "for i in data:\n",
    "  for j in i:\n",
    "    if j == 0:\n",
    "      print(-1)\n",
    "      exit(0)\n",
    "  result = max(result, max(i))\n",
    "print(result - 1)"
   ]
  },
  {
   "cell_type": "code",
   "execution_count": 13,
   "metadata": {},
   "outputs": [
    {
     "name": "stdout",
     "output_type": "stream",
     "text": [
      "2\n"
     ]
    }
   ],
   "source": [
    "# 11724 연결요소의 개수\n",
    "import sys\n",
    "sys.setrecursionlimit(10**6)\n",
    "sys.stdin = open('input.txt','r')\n",
    "input = sys.stdin.readline\n",
    "from collections import deque\n",
    "\n",
    "def bfs(node,isvisit):\n",
    "  queue = deque([(node)])\n",
    "  isvisit[node] = True\n",
    "\n",
    "  while queue:\n",
    "    node = queue.popleft()\n",
    "    for i in graph[node]:\n",
    "      if not isvisit[i]:\n",
    "        isvisit[i] = True\n",
    "        queue.append(i)\n",
    "\n",
    "N, E = map(int,input().split())\n",
    "graph = [[] for _ in range(N + 1)]\n",
    "isvisit = [False] * (N + 1)\n",
    "result = 0\n",
    "\n",
    "for _ in range(E):\n",
    "  u, v = map(int,input().split())\n",
    "  graph[u].append(v)\n",
    "  graph[v].append(u)\n",
    "\n",
    "for i in range(1,N+1):\n",
    "  if not isvisit[i]:\n",
    "    bfs(i, isvisit)\n",
    "    result += 1\n",
    "print(result)"
   ]
  },
  {
   "cell_type": "code",
   "execution_count": 36,
   "metadata": {},
   "outputs": [
    {
     "name": "stdout",
     "output_type": "stream",
     "text": [
      "9\n"
     ]
    }
   ],
   "source": [
    "# 14502 연구소\n",
    "import sys\n",
    "sys.setrecursionlimit(10**6)\n",
    "sys.stdin = open('input.txt','r')\n",
    "input = sys.stdin.readline\n",
    "from collections import deque\n",
    "import copy\n",
    "\n",
    "def bfs():\n",
    "  dx = [0,0,1,-1]\n",
    "  dy = [1,-1,0,0]\n",
    "  queue = deque()\n",
    "  test_data = copy.deepcopy(data)\n",
    "  for i in range(N):\n",
    "    for j in range(M):\n",
    "      if test_data[i][j] == 2:\n",
    "        queue.append([i,j])\n",
    "\n",
    "  while queue:\n",
    "    x, y = queue.popleft()\n",
    "    for i in range(4):\n",
    "      nx, ny = x + dx[i], y + dy[i]\n",
    "      if 0 > nx or nx >= N or 0 > ny or ny >= M:\n",
    "        continue\n",
    "      if test_data[nx][ny] == 0:\n",
    "        test_data[nx][ny] = 2\n",
    "        queue.append([nx,ny])\n",
    "  global result\n",
    "  count = 0\n",
    "  for i in range(N):\n",
    "    count += test_data[i].count(0)\n",
    "    \n",
    "  result = max(result,count)\n",
    "\n",
    "        \n",
    "def make_wall(count):\n",
    "  if count == 3:\n",
    "    bfs()\n",
    "    return\n",
    "  for i in range(N):\n",
    "    for j in range(M):\n",
    "      if data[i][j] == 0:\n",
    "        data[i][j] = 1\n",
    "        make_wall(count + 1)\n",
    "        data[i][j] = 0\n",
    "\n",
    "N, M = map(int,input().split())\n",
    "data = [list(map(int,input().split())) for _ in range(N)]\n",
    "result = 0\n",
    "make_wall(0)\n",
    "print(result)"
   ]
  },
  {
   "cell_type": "code",
   "execution_count": 32,
   "metadata": {},
   "outputs": [
    {
     "name": "stdout",
     "output_type": "stream",
     "text": [
      "9\n"
     ]
    }
   ],
   "source": [
    "#14502_연구소_bfs_gold5\n",
    "\n",
    "import sys\n",
    "sys.setrecursionlimit(10**6)\n",
    "sys.stdin = open('input.txt','r')\n",
    "input = sys.stdin.readline\n",
    "from collections import deque\n",
    "import copy\n",
    "\n",
    "d = [[-1,0],[1,0],[0,-1],[0,1]]\n",
    "\n",
    "def bfs():\n",
    "    queue = deque()\n",
    "    #queue에 2의 위치 전부 append\n",
    "    test_map = copy.deepcopy(lab_map)\n",
    "    for i in range(n):\n",
    "        for k in range(m):\n",
    "            if test_map[i][k] == 2:\n",
    "                queue.append((i,k))\n",
    "\n",
    "    while queue:\n",
    "        r,c = queue.popleft()\n",
    "\n",
    "        for i in range(4):\n",
    "            dr = r+d[i][0]\n",
    "            dc = c+d[i][1]\n",
    "\n",
    "            if (0<=dr<n) and (0<=dc<m):\n",
    "                if test_map[dr][dc] == 0:\n",
    "                    test_map[dr][dc] =2\n",
    "                    queue.append((dr,dc))\n",
    "\n",
    "    global result\n",
    "    count = 0\n",
    "    for i in range(n):\n",
    "        for k in range(m):\n",
    "            if test_map[i][k] == 0:\n",
    "                count +=1\n",
    "\n",
    "    result = max(result, count)\n",
    "\n",
    "\n",
    "def make_wall(count):\n",
    "    if count == 3:\n",
    "        bfs()\n",
    "        return\n",
    "    for i in range(n):\n",
    "        for k in range(m):\n",
    "            if lab_map[i][k] == 0:\n",
    "                lab_map[i][k] = 1\n",
    "                make_wall(count+1)\n",
    "                lab_map[i][k] = 0\n",
    "\n",
    "\n",
    "n, m = map(int,input().split())\n",
    "lab_map = [list(map(int,input().split())) for _ in range(n)]\n",
    "\n",
    "result = 0\n",
    "make_wall(0)\n",
    "\n",
    "print(result)"
   ]
  },
  {
   "cell_type": "code",
   "execution_count": null,
   "metadata": {},
   "outputs": [],
   "source": []
  }
 ],
 "metadata": {
  "kernelspec": {
   "display_name": "JS",
   "language": "python",
   "name": "python3"
  },
  "language_info": {
   "codemirror_mode": {
    "name": "ipython",
    "version": 3
   },
   "file_extension": ".py",
   "mimetype": "text/x-python",
   "name": "python",
   "nbconvert_exporter": "python",
   "pygments_lexer": "ipython3",
   "version": "3.11.5"
  }
 },
 "nbformat": 4,
 "nbformat_minor": 2
}
