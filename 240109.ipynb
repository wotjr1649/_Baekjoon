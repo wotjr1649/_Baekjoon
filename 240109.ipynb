{
 "cells": [
  {
   "cell_type": "code",
   "execution_count": 1,
   "metadata": {},
   "outputs": [
    {
     "name": "stdout",
     "output_type": "stream",
     "text": [
      "4\n"
     ]
    }
   ],
   "source": [
    "# 1697 숨바꼭질\n",
    "import sys\n",
    "sys.setrecursionlimit(10**6)\n",
    "sys.stdin = open(\"input.txt\",'r')\n",
    "input = sys.stdin.readline\n",
    "\n",
    "from collections import deque\n",
    "\n",
    "N, K = map(int, input().split())\n",
    "time = [0] * 100001\n",
    "\n",
    "def bfs(x,y):\n",
    "  queue = deque([x])\n",
    "\n",
    "  while queue:\n",
    "    x = queue.popleft()\n",
    "    if x == y:\n",
    "      return time[x]\n",
    "\n",
    "    for nx in (x - 1, x + 1, x * 2):\n",
    "      if 0 <= nx < 100001 and time[nx] == 0:\n",
    "        time[nx] = time[x] + 1\n",
    "        queue.append(nx)\n",
    "       \n",
    "\n",
    "print(bfs(N,K))\n",
    "  \n"
   ]
  },
  {
   "cell_type": "code",
   "execution_count": 16,
   "metadata": {},
   "outputs": [
    {
     "name": "stdout",
     "output_type": "stream",
     "text": [
      "4\n",
      "2\n"
     ]
    }
   ],
   "source": [
    "# 12851 숨바꼭질 2\n",
    "import sys\n",
    "sys.setrecursionlimit(10**6)\n",
    "sys.stdin = open(\"input.txt\",'r')\n",
    "input = sys.stdin.readline\n",
    "\n",
    "from collections import deque\n",
    "\n",
    "N, K = map(int, input().split())\n",
    "time = [0] * 100001\n",
    "result, cnt = 0, 0\n",
    "\n",
    "def bfs(x,y):\n",
    "  global cnt\n",
    "  global result\n",
    "  queue = deque([x])\n",
    "  while queue:\n",
    "    x = queue.popleft()\n",
    "    if x == y:\n",
    "      result = time[x]\n",
    "      cnt += 1\n",
    "      continue\n",
    "    for nx in (x - 1, x + 1, x * 2):\n",
    "      if 0 <= nx < 100001 and (time[nx] == 0 or time[nx] == time[x] + 1):\n",
    "        time[nx] = time[x] + 1\n",
    "        queue.append(nx)\n",
    "        \n",
    "bfs(N,K)\n",
    "print(result)\n",
    "print(cnt)\n"
   ]
  },
  {
   "cell_type": "code",
   "execution_count": 46,
   "metadata": {},
   "outputs": [
    {
     "name": "stdout",
     "output_type": "stream",
     "text": [
      "1 2 4 3\n",
      "1 2 3 4\n"
     ]
    }
   ],
   "source": [
    "# 1260 DFS와 BFS\n",
    "import sys\n",
    "sys.setrecursionlimit(10**6)\n",
    "sys.stdin = open('input.txt','r')\n",
    "input = sys.stdin.readline\n",
    "\n",
    "from collections import deque\n",
    "\n",
    "\n",
    "def dfs(start_node, visited = []):\n",
    "  visited.append(start_node)\n",
    "  for node in data[start_node]:\n",
    "    if node not in visited:\n",
    "      dfs(node,visited)\n",
    "      \n",
    "  return visited\n",
    "\n",
    "def bfs(start_node, visited = []):\n",
    "  queue = deque([start_node])\n",
    "  visited.append(start_node)\n",
    "  while queue:\n",
    "    node = queue.popleft()\n",
    "    for i in data[node]:\n",
    "      if i not in visited:\n",
    "        visited.append(i)\n",
    "        queue.append(i)\n",
    "  return visited\n",
    "        \n",
    "N,M,V = map(int,input().split())\n",
    "data = [[] for _ in range(N + 1)]\n",
    "\n",
    "for i in range(M):\n",
    "  x, y = map(int,input().split())\n",
    "  data[x].append(y)\n",
    "  data[y].append(x)\n",
    "for i in data:\n",
    "  i.sort()\n",
    "\n",
    "print(*dfs(V))\n",
    "print(*bfs(V))\n"
   ]
  },
  {
   "cell_type": "code",
   "execution_count": 66,
   "metadata": {},
   "outputs": [
    {
     "name": "stdout",
     "output_type": "stream",
     "text": [
      "15\n"
     ]
    }
   ],
   "source": [
    "# 2178 미로탐색\n",
    "import sys\n",
    "sys.setrecursionlimit(10**6)\n",
    "sys.stdin = open('input.txt','r')\n",
    "input = sys.stdin.readline\n",
    "\n",
    "dx = [0,0,1,-1]\n",
    "dy = [1,-1,0,0]\n",
    "\n",
    "N, M = map(int,input().split())\n",
    "data = [list(map(int,input().strip())) for _ in range(N)]\n",
    "result = [[0] * M for _ in range(N)]\n",
    "\n",
    "def bfs(x,y):\n",
    "  from collections import deque\n",
    "  queue = deque([(x,y)])\n",
    "  result[x][y] = 1\n",
    "\n",
    "  while queue:\n",
    "    x, y = queue.popleft()\n",
    "    for i in range(4):\n",
    "      nx = x + dx[i]\n",
    "      ny = y + dy[i]\n",
    "      if 0 <= nx < N and 0 <= ny < M:\n",
    "       if data[nx][ny] and not result[nx][ny]:\n",
    "          queue.append([nx,ny])\n",
    "          result[nx][ny] = result[x][y] + 1\n",
    "\n",
    "\n",
    "bfs(0,0)\n",
    "print(result[N-1][M-1])\n"
   ]
  },
  {
   "cell_type": "code",
   "execution_count": 13,
   "metadata": {},
   "outputs": [
    {
     "name": "stdout",
     "output_type": "stream",
     "text": [
      "4\n"
     ]
    }
   ],
   "source": [
    "# 2606 바이러스\n",
    "import sys\n",
    "sys.setrecursionlimit(10**6)\n",
    "sys.stdin = open('input.txt','r')\n",
    "input = sys.stdin.readline\n",
    "\n",
    "def dfs(com_n,isvisit):\n",
    "  isvisit[com_n] = True\n",
    "  for i in data[com_n]:\n",
    "    if not isvisit[i]:\n",
    "      dfs(i,isvisit)\n",
    "\n",
    "N = int(input())\n",
    "P = int(input())\n",
    "isvisit = [False] * (N + 1)\n",
    "data = [[] for _ in range (N + 1)]\n",
    "virus = 0\n",
    "for _ in range(P):\n",
    "  x, y = map(int,input().split())\n",
    "  data[x].append(y)\n",
    "  data[y].append(x)\n",
    "for i in data:\n",
    "  i.sort()\n",
    "dfs(1,isvisit)\n",
    "print(sum(isvisit) - 1)\n"
   ]
  },
  {
   "cell_type": "code",
   "execution_count": 1,
   "metadata": {},
   "outputs": [
    {
     "name": "stdout",
     "output_type": "stream",
     "text": [
      "3\n",
      "7\n",
      "8\n",
      "9\n"
     ]
    }
   ],
   "source": [
    "# 2667 단지번호붙이기\n",
    "import sys\n",
    "sys.setrecursionlimit(10**6)\n",
    "sys.stdin = open('input.txt','r')\n",
    "input = sys.stdin.readline\n",
    "\n",
    "dx = [0,0,1,-1]\n",
    "dy = [1,-1,0,0]\n",
    "\n",
    "def bfs(x,y,count):\n",
    "  from collections import deque\n",
    "  queue = deque([(x,y)])\n",
    "  data[x][y] = 0\n",
    "  while queue:\n",
    "    x,y = queue.popleft()\n",
    "    for i in range(4):\n",
    "      nx = x + dx[i]\n",
    "      ny = y + dy[i]\n",
    "      if 0 <= nx < N and 0 <= ny < N and data[nx][ny]:\n",
    "        count += 1\n",
    "        data[nx][ny] = 0\n",
    "        queue.append([nx,ny])\n",
    "  return count\n",
    "\n",
    "N = int(input())\n",
    "data = [list(map(int,input().strip())) for _ in range(N)]\n",
    "result = [bfs(i,j,1) for i in range(N) for j in range(N) if data[i][j] == 1]\n",
    "\n",
    "result.sort()\n",
    "print(len(result))\n",
    "for i in result:\n",
    "  print(i)"
   ]
  },
  {
   "cell_type": "code",
   "execution_count": 6,
   "metadata": {},
   "outputs": [
    {
     "name": "stdout",
     "output_type": "stream",
     "text": [
      "2\n"
     ]
    }
   ],
   "source": [
    "# 1012 유기농 배추\n",
    "import sys\n",
    "sys.setrecursionlimit(10**6)\n",
    "sys.stdin = open('input.txt','r')\n",
    "input = sys.stdin.readline\n",
    "\n",
    "def bfs(x,y):\n",
    "  from collections import deque\n",
    "  dx = [0,0,1,-1]\n",
    "  dy = [1,-1,0,0]\n",
    "\n",
    "  queue = deque([(x,y)])\n",
    "  data[x][y] = 0\n",
    "   \n",
    "  while queue:\n",
    "    x, y = queue.popleft()\n",
    "\n",
    "    for i in range(4):\n",
    "      nx = x + dx[i]\n",
    "      ny = y + dy[i]\n",
    "\n",
    "      if nx < 0 or nx >= N or ny < 0 or ny >= M:\n",
    "        continue\n",
    "\n",
    "      if data[nx][ny]:\n",
    "        data[nx][ny] = 0\n",
    "        queue.append([nx,ny])\n",
    "\n",
    "for i in range(int(input())):\n",
    "  M, N, K = map(int,input().split())\n",
    "  data = [[0] * M for _ in range(N)]\n",
    "  count = 0\n",
    "  \n",
    "  for j in range(K):\n",
    "    X, Y = map(int,input().split())\n",
    "    data[Y][X] = 1\n",
    "\n",
    "  for a in range(N):\n",
    "    for b in range(M):\n",
    "      if data[a][b] == 1:\n",
    "        bfs(a,b)\n",
    "        count += 1\n",
    "\n",
    "  print(count)\n",
    "\n",
    "  "
   ]
  },
  {
   "cell_type": "code",
   "execution_count": null,
   "metadata": {},
   "outputs": [],
   "source": []
  }
 ],
 "metadata": {
  "kernelspec": {
   "display_name": "JS",
   "language": "python",
   "name": "python3"
  },
  "language_info": {
   "codemirror_mode": {
    "name": "ipython",
    "version": 3
   },
   "file_extension": ".py",
   "mimetype": "text/x-python",
   "name": "python",
   "nbconvert_exporter": "python",
   "pygments_lexer": "ipython3",
   "version": "3.11.5"
  }
 },
 "nbformat": 4,
 "nbformat_minor": 2
}
