{
 "cells": [
  {
   "cell_type": "code",
   "execution_count": 28,
   "metadata": {},
   "outputs": [
    {
     "name": "stdout",
     "output_type": "stream",
     "text": [
      "4\n",
      "3\n"
     ]
    }
   ],
   "source": [
    "# 10026 적록색약\n",
    "import sys\n",
    "sys.setrecursionlimit(10**6)\n",
    "sys.stdin = open('input.txt','r')\n",
    "input = sys.stdin.readline\n",
    "from collections import deque\n",
    "from copy import deepcopy\n",
    "\n",
    "dx, dy = [1,-1,0,0], [0,0,1,-1]\n",
    "\n",
    "def bfs(x,y,isvisit):\n",
    "  queue = deque([(x,y)])\n",
    "  isvisit[x][y] = True\n",
    "\n",
    "  while queue:\n",
    "    x,y = queue.popleft()\n",
    "    for i in range(4):\n",
    "      nx, ny = x + dx[i], y + dy[i]\n",
    "      if 0 > nx or nx >= N or 0 > ny or ny >= N:\n",
    "        continue\n",
    "      if data[nx][ny] == data[x][y] and not isvisit[nx][ny]:\n",
    "        isvisit[nx][ny] = True\n",
    "        queue.append([nx,ny])     \n",
    "\n",
    "N = int(input())\n",
    "\n",
    "data = [list(input().strip()) for _ in range(N)]\n",
    "isvisit = [[False] * N for _ in range(N)]\n",
    "result = 0\n",
    "for i in range(N):\n",
    "  for j in range(N):\n",
    "    if not isvisit[i][j]:\n",
    "      bfs(i,j,isvisit)\n",
    "      result += 1\n",
    "print(result)\n",
    "\n",
    "data = [['R' if j == 'G' else j for j in i]  for i in data]\n",
    "isvisit = [[False] * N for _ in range(N)]\n",
    "result = 0\n",
    "for i in range(N):\n",
    "  for j in range(N):\n",
    "    if not isvisit[i][j]:\n",
    "      bfs(i,j,isvisit)\n",
    "      result += 1\n",
    "print(result)\n",
    "\n"
   ]
  },
  {
   "cell_type": "code",
   "execution_count": 1,
   "metadata": {},
   "outputs": [
    {
     "name": "stdout",
     "output_type": "stream",
     "text": [
      "0\n"
     ]
    }
   ],
   "source": [
    "# 7569 토마토\n",
    "import sys\n",
    "sys.setrecursionlimit(10**6)\n",
    "sys.stdin = open('input.txt','r')\n",
    "input = sys.stdin.readline\n",
    "from collections import deque\n",
    "\n",
    "direction = [(1,0,0),(-1,0,0),(0,1,0),(0,-1,0),(0,0,1),(0,0,-1)]\n",
    "\n",
    "def bfs(isvisit):\n",
    "  while queue:\n",
    "    z,x,y = queue.popleft()\n",
    "    isvisit[z][x][y] = True\n",
    "\n",
    "    for dz, dx, dy in direction:\n",
    "      nz, nx, ny = z + dz, x + dx, y + dy\n",
    "\n",
    "      if (0 <= nz < H) and (0 <= nx < N) and (0 <= ny < M):\n",
    "        if data[nz][nx][ny] == 0 and not isvisit[nz][nx][ny]:\n",
    "          data[nz][nx][ny] = data[z][x][y] + 1\n",
    "          queue.append([nz,nx,ny])\n",
    "\n",
    "M, N, H = map(int,input().split())\n",
    "data = [[list(map(int,input().split())) for _ in range(N)] for _ in range(H)]\n",
    "queue = deque([k,i,j] for k in range(H) for i in range(N) for j in range(M) if data[k][i][j] == 1)\n",
    "isvisit = [[[False]* M for _ in range(N)] for _ in range(H)]\n",
    "result = 0\n",
    "bfs(isvisit)\n",
    "\n",
    "for k in data:\n",
    "  for i in k:\n",
    "    for j in i:\n",
    "      if j == 0:\n",
    "        print(-1)\n",
    "        exit(0)\n",
    "    result = max(result, max(i))\n",
    "print(result - 1)"
   ]
  },
  {
   "cell_type": "code",
   "execution_count": null,
   "metadata": {},
   "outputs": [],
   "source": []
  }
 ],
 "metadata": {
  "kernelspec": {
   "display_name": "JS",
   "language": "python",
   "name": "python3"
  },
  "language_info": {
   "codemirror_mode": {
    "name": "ipython",
    "version": 3
   },
   "file_extension": ".py",
   "mimetype": "text/x-python",
   "name": "python",
   "nbconvert_exporter": "python",
   "pygments_lexer": "ipython3",
   "version": "3.11.5"
  }
 },
 "nbformat": 4,
 "nbformat_minor": 2
}
