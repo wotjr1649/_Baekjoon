{
 "cells": [
  {
   "cell_type": "code",
   "execution_count": 47,
   "metadata": {},
   "outputs": [
    {
     "name": "stdout",
     "output_type": "stream",
     "text": [
      "7\n",
      "8\n",
      "10\n",
      "13\n",
      "19\n",
      "20\n",
      "23\n"
     ]
    }
   ],
   "source": [
    "# 2309 \n",
    "import sys\n",
    "from itertools import combinations\n",
    "\n",
    "sys.stdin = open('input.txt','r')\n",
    "input = sys.stdin.readline\n",
    "\n",
    "\n",
    "li = []\n",
    "for i in range(9):\n",
    "  li.append(int(input().strip()))\n",
    "\n",
    "for i in list(combinations(li,7)):\n",
    "  if sum(i) == 100:\n",
    "    for j in sorted(i):\n",
    "      print(j)\n",
    "    break"
   ]
  },
  {
   "cell_type": "code",
   "execution_count": 20,
   "metadata": {},
   "outputs": [
    {
     "name": "stdout",
     "output_type": "stream",
     "text": [
      "4\n"
     ]
    }
   ],
   "source": [
    "# 3085\n",
    "import sys\n",
    "sys.stdin = open('input.txt','r')\n",
    "input = sys.stdin.readline\n",
    " \n",
    "n = int(input())\n",
    "li = [list(input().strip()) for _ in range(n)]\n",
    "\n",
    "def check(data):\n",
    "  max_cnt = 1\n",
    "  for i in range(n):\n",
    "    cnt = 1\n",
    "    for j in range(1,n):\n",
    "      if data[i][j] == data[i][j-1]:\n",
    "        cnt += 1\n",
    "      else:\n",
    "        cnt = 1\n",
    "      max_cnt = max(max_cnt,cnt)\n",
    "    \n",
    "    cnt = 1\n",
    "    for j in range(1,n):\n",
    "      if data[j][i] == data[j-1][i]:\n",
    "        cnt += 1\n",
    "      else:\n",
    "        cnt = 1\n",
    "      max_cnt = max(max_cnt,cnt)\n",
    "  return max_cnt\n",
    "\n",
    "ans = 0\n",
    "for i in range(n):\n",
    "  for j in range(n):\n",
    "    if j + 1 < n:\n",
    "      li[i][j], li[i][j + 1] = li[i][j + 1], li[i][j]\n",
    "      ans = max(ans,check(li))\n",
    "      li[i][j + 1], li[i][j] = li[i][j], li[i][j + 1]\n",
    "    if i + 1 < n:\n",
    "      li[i][j], li[i+1][j] = li[i+1][j],li[i][j]\n",
    "      ans = max(ans,check(li))\n",
    "      li[i+1][j],li[i][j] = li[i][j], li[i+1][j]\n",
    "\n",
    "print(ans)\n"
   ]
  },
  {
   "cell_type": "code",
   "execution_count": null,
   "metadata": {},
   "outputs": [],
   "source": []
  }
 ],
 "metadata": {
  "kernelspec": {
   "display_name": "JS",
   "language": "python",
   "name": "python3"
  },
  "language_info": {
   "name": "python",
   "version": "3.11.5"
  }
 },
 "nbformat": 4,
 "nbformat_minor": 2
}
