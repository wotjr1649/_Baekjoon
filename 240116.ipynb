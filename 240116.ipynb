{
 "cells": [
  {
   "cell_type": "code",
   "execution_count": 34,
   "metadata": {},
   "outputs": [
    {
     "name": "stdout",
     "output_type": "stream",
     "text": [
      "-1\n"
     ]
    }
   ],
   "source": [
    "# 2644 촌수계산\n",
    "import sys\n",
    "sys.setrecursionlimit(10**6)\n",
    "sys.stdin = open('input.txt','r')\n",
    "input = sys.stdin.readline\n",
    "from collections import deque\n",
    "\n",
    "def bfs(x):\n",
    "  queue = deque([(x)])\n",
    "  while queue:\n",
    "    x = queue.popleft()\n",
    "    for i in graph[x]:\n",
    "      if not isvisit[i]:\n",
    "        isvisit[i] = isvisit[x] + 1\n",
    "        queue.append(i)\n",
    "\n",
    "N = int(input())\n",
    "a, b = map(int,input().split())\n",
    "m = int(input())\n",
    "graph = [[] for _ in range(N + 1)]\n",
    "isvisit = [0] * (N + 1)\n",
    "\n",
    "for i in range(1, m+1):\n",
    "  x, y = map(int,input().split())\n",
    "  graph[x].append(y)\n",
    "  graph[y].append(x)\n",
    "\n",
    "bfs(a)\n",
    "print(isvisit[b] if isvisit[b] > 0 else -1)"
   ]
  },
  {
   "cell_type": "code",
   "execution_count": 1,
   "metadata": {},
   "outputs": [
    {
     "name": "stdout",
     "output_type": "stream",
     "text": [
      "14\n"
     ]
    }
   ],
   "source": [
    "# 16236 아기상어\n",
    "import sys\n",
    "sys.setrecursionlimit(10**6)\n",
    "sys.stdin = open('input.txt','r')\n",
    "input = sys.stdin.readline\n",
    "from collections import deque\n",
    "\n",
    "def bfs(x,y):\n",
    "  visit, cand = [[0] * N for _ in range(N)], []\n",
    "  queue, visit[x][y] = deque([(x,y)]), 1\n",
    "\n",
    "  while queue:\n",
    "    i,j = queue.popleft()\n",
    "\n",
    "    for idx in range(4):\n",
    "      nx, ny = i + dx[idx], j + dy[idx]\n",
    "\n",
    "      if 0 <= nx < N and 0 <= ny < N and not visit[nx][ny]:\n",
    "        if data[x][y] > data[nx][ny] and data[nx][ny]:\n",
    "          visit[nx][ny] = visit[i][j] + 1\n",
    "          cand.append((visit[nx][ny] - 1, nx, ny))\n",
    "        elif data[x][y] == data[nx][ny]:\n",
    "          visit[nx][ny] = visit[i][j] + 1\n",
    "          queue.append([nx,ny])\n",
    "        elif not data[nx][ny]:\n",
    "          visit[nx][ny] = visit[i][j] + 1\n",
    "          queue.append([nx,ny])\n",
    "\n",
    "  return sorted(cand, key = lambda x : (x[0],x[1],x[2]))\n",
    "\n",
    "N, dx, dy, size, cnt = int(input()), [1,-1,0,0], [0,0,1,-1], [2,0], 0\n",
    "data = [list(map(int,input().split())) for _ in range(N)]\n",
    "shark_x, shark_y = [(x,y) for x in range(N) for y in range(N) if data[x][y] == 9].pop()\n",
    "\n",
    "while True:\n",
    "  data[shark_x][shark_y] = size[0]\n",
    "  cand = deque(bfs(shark_x, shark_y))\n",
    "  if not cand:\n",
    "    break\n",
    "  step, xx, yy = cand.popleft()\n",
    "  cnt, size[1] = cnt + step, size[1] + 1\n",
    "\n",
    "  if size[0] == size[1]:\n",
    "    size[0], size[1] = size[0] + 1, 0\n",
    "\n",
    "  data[shark_x][shark_y] = 0\n",
    "  shark_x, shark_y = xx,yy\n",
    "\n",
    "print(cnt)"
   ]
  },
  {
   "cell_type": "code",
   "execution_count": 47,
   "metadata": {},
   "outputs": [
    {
     "name": "stdout",
     "output_type": "stream",
     "text": [
      "2\n"
     ]
    }
   ],
   "source": [
    "# 13549 숨바꼭질 3\n",
    "import sys\n",
    "sys.setrecursionlimit(10**6)\n",
    "sys.stdin = open('input.txt','r')\n",
    "input = sys.stdin.readline\n",
    "from collections import deque\n",
    "MaxNum = 100_001\n",
    "\n",
    "def bfs(x,y):\n",
    "  queue = deque([x])\n",
    "\n",
    "  while queue:\n",
    "    x = queue.popleft()\n",
    "    if x == y:\n",
    "      return time[x]\n",
    "    for xx in [ x * 2,x - 1, x + 1]:\n",
    "      if 0 <= xx < MaxNum and not time[xx]:\n",
    "        queue.append(xx)\n",
    "        if xx == x * 2:\n",
    "          time[xx] = time[x]\n",
    "        else:\n",
    "          time[xx] = time[x] + 1\n",
    "\n",
    "N , K = map(int,input().split())\n",
    "time = [0] * MaxNum\n",
    "\n",
    "print(bfs(N,K))"
   ]
  },
  {
   "cell_type": "code",
   "execution_count": 81,
   "metadata": {},
   "outputs": [
    {
     "name": "stdout",
     "output_type": "stream",
     "text": [
      "36\n",
      "1\n"
     ]
    }
   ],
   "source": [
    "# 16234 인구 이동\n",
    "import sys\n",
    "from unittest import result\n",
    "sys.setrecursionlimit(10**6)\n",
    "sys.stdin = open('input.txt','r')\n",
    "input = sys.stdin.readline\n",
    "from collections import deque\n",
    "dx,dy = [1,-1,0,0], [0,0,1,-1]\n",
    "\n",
    "def bfs(x,y):\n",
    "  queue = deque([(x,y)])\n",
    "  temp = [(x,y)]\n",
    "  while queue:\n",
    "    x,y = queue.popleft()\n",
    "    for i in range(4):\n",
    "      nx,ny = x + dx[i], y + dy[i]\n",
    "      if 0<= nx < N and 0 <= ny < N and not visit[nx][ny]:\n",
    "        if L <= abs(data[nx][ny] - data[x][y]) <= R:\n",
    "          visit[nx][ny] = True\n",
    "          queue.append((nx,ny))\n",
    "          temp.append((nx,ny))\n",
    "  return temp\n",
    "\n",
    "\n",
    "N, L, R = map(int,input().split())\n",
    "data = [list(map(int,input().split())) for _ in range(N)]\n",
    "result = 0\n",
    "while True:\n",
    "  visit, flag = [[0] * (N + 1) for _ in range(N + 1)], 0\n",
    "  for i in range(N):\n",
    "    for j in range(N):\n",
    "      if not visit[i][j]:\n",
    "        visit[i][j] = 1\n",
    "        country = bfs(i,j)\n",
    "        if len(country) > 1:\n",
    "          flag = 1\n",
    "          num = sum([data[x][y] for x,y in country]) // len(country)\n",
    "          for x,y in country:\n",
    "            data[x][y] = num\n",
    "  if flag == 0:\n",
    "    break\n",
    "  result +=1\n",
    "print(result)"
   ]
  },
  {
   "cell_type": "code",
   "execution_count": 12,
   "metadata": {},
   "outputs": [
    {
     "name": "stdout",
     "output_type": "stream",
     "text": [
      "5\n"
     ]
    }
   ],
   "source": [
    "# 16953 A -> B\n",
    "import sys\n",
    "sys.setrecursionlimit(10**6)\n",
    "sys.stdin = open('input.txt','r')\n",
    "input = sys.stdin.readline\n",
    "from collections import deque\n",
    "\n",
    "def bfs(a,b):\n",
    "  queue = deque([(a,1)])\n",
    "  while queue:\n",
    "    a,cnt = queue.popleft()\n",
    "    if a == b:\n",
    "      return cnt\n",
    "    for i in [a * 2, a * 10 + 1]:\n",
    "      if i <= b:\n",
    "        queue.append((i,cnt + 1))\n",
    "  return -1\n",
    "\n",
    "A,B = map(int,input().split())\n",
    "print(bfs(A,B))"
   ]
  },
  {
   "cell_type": "code",
   "execution_count": null,
   "metadata": {},
   "outputs": [],
   "source": []
  }
 ],
 "metadata": {
  "kernelspec": {
   "display_name": "JS",
   "language": "python",
   "name": "python3"
  },
  "language_info": {
   "codemirror_mode": {
    "name": "ipython",
    "version": 3
   },
   "file_extension": ".py",
   "mimetype": "text/x-python",
   "name": "python",
   "nbconvert_exporter": "python",
   "pygments_lexer": "ipython3",
   "version": "3.11.5"
  }
 },
 "nbformat": 4,
 "nbformat_minor": 2
}
