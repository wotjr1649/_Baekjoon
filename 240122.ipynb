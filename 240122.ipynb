{
 "cells": [
  {
   "cell_type": "code",
   "execution_count": 3,
   "metadata": {},
   "outputs": [
    {
     "name": "stdout",
     "output_type": "stream",
     "text": [
      "6\n"
     ]
    }
   ],
   "source": [
    "# 3055 탈출\n",
    "import sys\n",
    "from collections import deque\n",
    "\n",
    "sys.setrecursionlimit(10**6)\n",
    "sys.stdin = open(\"input.txt\", \"r\")\n",
    "input = sys.stdin.readline\n",
    "\n",
    "R, C = map(int, input().split())\n",
    "data = [list(map(str, input().strip())) for _ in range(R)]\n",
    "dx, dy = [1, -1, 0, 0], [0, 0, 1, -1]\n",
    "visit = [[0] * C for _ in range(R)]\n",
    "queue = deque()\n",
    "\n",
    "for i in range(R):\n",
    "    for j in range(C):\n",
    "        if data[i][j] == \"S\":\n",
    "            queue.append((i, j))\n",
    "        if data[i][j] == \"D\":\n",
    "            Dx, Dy = i, j\n",
    "\n",
    "for i in range(R):\n",
    "    for j in range(C):\n",
    "        if data[i][j] == \"*\":\n",
    "            queue.append((i, j))\n",
    "\n",
    "\n",
    "def bfs(Dx :int, Dy : int) -> str:\n",
    "    while queue:\n",
    "        x, y = queue.popleft()\n",
    "        if data[Dx][Dy] == \"S\":\n",
    "            return visit[Dx][Dy]\n",
    "\n",
    "        for i in range(4):\n",
    "            nx, ny = x + dx[i], y + dy[i]\n",
    "            if 0 <= nx < R and 0 <= ny < C:\n",
    "                if (data[nx][ny] == \".\" or data[nx][ny] == \"D\") and data[x][y] == \"S\":\n",
    "                    data[nx][ny], visit[nx][ny] = \"S\", visit[x][y] + 1\n",
    "                    queue.append((nx, ny))\n",
    "                elif (data[nx][ny] == \".\" or data[nx][ny] == \"S\") and data[x][y] == \"*\":\n",
    "                    data[nx][ny] = \"*\"\n",
    "                    queue.append((nx, ny))\n",
    "\n",
    "    return \"KAKTUS\"\n",
    "\n",
    "print(bfs(Dx, Dy))"
   ]
  },
  {
   "cell_type": "code",
   "execution_count": null,
   "metadata": {},
   "outputs": [],
   "source": []
  }
 ],
 "metadata": {
  "kernelspec": {
   "display_name": "JS",
   "language": "python",
   "name": "python3"
  },
  "language_info": {
   "codemirror_mode": {
    "name": "ipython",
    "version": 3
   },
   "file_extension": ".py",
   "mimetype": "text/x-python",
   "name": "python",
   "nbconvert_exporter": "python",
   "pygments_lexer": "ipython3",
   "version": "3.11.5"
  }
 },
 "nbformat": 4,
 "nbformat_minor": 2
}
