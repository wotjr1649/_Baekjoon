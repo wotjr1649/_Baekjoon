{
 "cells": [
  {
   "cell_type": "code",
   "execution_count": null,
   "metadata": {},
   "outputs": [],
   "source": [
    "import sys\n",
    "\n",
    "# 자기 호출 개수 제한\n",
    "sys.setrecursionlimit(10**6)\n",
    "\n",
    "#테스트용 파일(\"input.txt\") 읽기\n",
    "sys.stdin = open(\"input.txt\", \"r\")\n",
    "\n",
    "# 주어진 파일을 한 줄씩 입력\n",
    "input = sys.stdin.readline"
   ]
  },
  {
   "cell_type": "code",
   "execution_count": 18,
   "metadata": {},
   "outputs": [
    {
     "name": "stdout",
     "output_type": "stream",
     "text": [
      "5\n"
     ]
    }
   ],
   "source": [
    "# 16953 A -> B\n",
    "import sys\n",
    "from collections import deque\n",
    "sys.setrecursionlimit(10**6)\n",
    "sys.stdin = open(\"input.txt\", \"r\")\n",
    "input = sys.stdin.readline\n",
    "\n",
    "def solve(a,b):\n",
    "  queue = deque([(a,1)])\n",
    "  while queue:\n",
    "    now, cnt = queue.popleft()\n",
    "\n",
    "    if now == b:\n",
    "      print(cnt)\n",
    "      return\n",
    "    if now * 2 <= b:\n",
    "      queue.append((now * 2,cnt + 1))\n",
    "    if now * 10 + 1 <= b:\n",
    "      queue.append((now * 10 + 1, cnt + 1))\n",
    "  print(-1)\n",
    "\n",
    "A, B = map(int, input().split())\n",
    "solve(A,B)"
   ]
  },
  {
   "cell_type": "code",
   "execution_count": 20,
   "metadata": {},
   "outputs": [
    {
     "name": "stdout",
     "output_type": "stream",
     "text": [
      "4\n"
     ]
    }
   ],
   "source": [
    "# 16953 A -> B\n",
    "import sys\n",
    "from collections import deque\n",
    "sys.setrecursionlimit(10**6)\n",
    "sys.stdin = open(\"input.txt\", \"r\")\n",
    "input = sys.stdin.readline\n",
    "\n",
    "A, B = map(int, input().split())\n",
    "count = 0\n",
    "\n",
    "while A != B:\n",
    "  if A > B:\n",
    "    count -= 2\n",
    "    break\n",
    "  elif str(B)[-1] =='1':\n",
    "    B = B // 10\n",
    "    count += 1\n",
    "  elif B % 2 == 0:\n",
    "    B = B // 2\n",
    "    count += 1\n",
    "  else:\n",
    "    count = -2\n",
    "    break\n",
    "print(count + 1) "
   ]
  },
  {
   "cell_type": "code",
   "execution_count": 1,
   "metadata": {},
   "outputs": [
    {
     "name": "stdout",
     "output_type": "stream",
     "text": [
      "2\n"
     ]
    }
   ],
   "source": [
    "# 13549 숨바꼭질 3\n",
    "import sys\n",
    "from collections import deque\n",
    "sys.setrecursionlimit(10**6)\n",
    "sys.stdin = open(\"input.txt\", \"r\")\n",
    "input = sys.stdin.readline\n",
    "\n",
    "\n",
    "\n",
    "def bfs(x,y):\n",
    "  queue = deque()\n",
    "  if x == 0:\n",
    "    queue.append(1)\n",
    "  else:\n",
    "    queue.append(x)\n",
    "    \n",
    "  while queue:\n",
    "    x = queue.popleft()\n",
    "    if y == x:\n",
    "      return time[x]\n",
    "    for nx in (x-1,x+1,x*2):\n",
    "      if 0 <= nx < 100001 and time[nx] == 0:\n",
    "        if nx == 2 * x:\n",
    "          time[nx] = time[x]\n",
    "          queue.appendleft(nx)\n",
    "        else:\n",
    "          time[nx] = time[x] + 1\n",
    "          queue.append(nx)\n",
    "\n",
    "N,K = map(int,input().split())\n",
    "time = [0] * 100001\n",
    "\n",
    "if N == 0:\n",
    "  print(bfs(N,K) + 1)\n",
    "else:\n",
    "  print(bfs(N,K))\n"
   ]
  },
  {
   "cell_type": "code",
   "execution_count": null,
   "metadata": {},
   "outputs": [],
   "source": []
  }
 ],
 "metadata": {
  "kernelspec": {
   "display_name": "JS",
   "language": "python",
   "name": "python3"
  },
  "language_info": {
   "codemirror_mode": {
    "name": "ipython",
    "version": 3
   },
   "file_extension": ".py",
   "mimetype": "text/x-python",
   "name": "python",
   "nbconvert_exporter": "python",
   "pygments_lexer": "ipython3",
   "version": "3.11.5"
  }
 },
 "nbformat": 4,
 "nbformat_minor": 2
}
