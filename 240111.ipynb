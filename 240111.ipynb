{
 "cells": [
  {
   "cell_type": "code",
   "execution_count": 3,
   "metadata": {},
   "outputs": [
    {
     "name": "stdout",
     "output_type": "stream",
     "text": [
      "9\n"
     ]
    }
   ],
   "source": [
    "# 14502 연구소\n",
    "import sys\n",
    "sys.setrecursionlimit(10**6)\n",
    "sys.stdin = open('input.txt','r')\n",
    "input = sys.stdin.readline\n",
    "from copy import deepcopy\n",
    "from collections import deque\n",
    "from itertools import combinations\n",
    "\n",
    "def bfs(graph):\n",
    "  dx , dy = [0,0,1,-1], [1,-1,0,0]\n",
    "  queue = deque([(i,j) for i in range(N) for j in range(M) if graph[i][j] == 2])\n",
    "\n",
    "  while queue:\n",
    "    x, y = queue.popleft()\n",
    "    for i in range(4):\n",
    "      nx, ny = x + dx[i], y + dy[i]\n",
    "      if 0 <= nx < N and 0 <= ny < M:\n",
    "        if not graph[nx][ny]:\n",
    "          graph[nx][ny] = 2\n",
    "          queue.append([nx,ny])\n",
    "\n",
    "  global result\n",
    "  count = sum(i.count(0) for i in graph)\n",
    "  result = max(result, count)\n",
    "\n",
    "N, M = map(int, input().split())\n",
    "data = [list(map(int,input().split())) for _ in range(N)]\n",
    "x_y = [(x,y) for x in range(N) for y in range(M) if not data[x][y]]\n",
    "result = 0\n",
    "\n",
    "for c in combinations(x_y,3):\n",
    "  temp_data = deepcopy(data)\n",
    "  for x, y in c:\n",
    "    temp_data[x][y] = 1\n",
    "  bfs(temp_data)\n",
    "\n",
    "print(result)\n"
   ]
  },
  {
   "cell_type": "code",
   "execution_count": null,
   "metadata": {},
   "outputs": [],
   "source": []
  }
 ],
 "metadata": {
  "kernelspec": {
   "display_name": "JS",
   "language": "python",
   "name": "python3"
  },
  "language_info": {
   "codemirror_mode": {
    "name": "ipython",
    "version": 3
   },
   "file_extension": ".py",
   "mimetype": "text/x-python",
   "name": "python",
   "nbconvert_exporter": "python",
   "pygments_lexer": "ipython3",
   "version": "3.11.5"
  }
 },
 "nbformat": 4,
 "nbformat_minor": 2
}
