{
 "cells": [
  {
   "cell_type": "code",
   "execution_count": 7,
   "metadata": {},
   "outputs": [
    {
     "name": "stdout",
     "output_type": "stream",
     "text": [
      "[1, 1, 1, 4, 5, 5, 4, 2, 1]\n",
      "5\n"
     ]
    }
   ],
   "source": [
    "# 2468 안전 영역\n",
    "import sys\n",
    "sys.setrecursionlimit(10**6)\n",
    "sys.stdin = open('input.txt','r')\n",
    "input = sys.stdin.readline\n",
    "from collections import deque\n",
    "\n",
    "dx,dy = [0,0,1,-1],[1,-1,0,0]\n",
    "\n",
    "def bfs(x,y,h,isvisit):\n",
    "  queue = deque([(x,y)])\n",
    "  isvisit[x][y] = True\n",
    "  while queue:\n",
    "    x, y = queue.popleft()\n",
    "\n",
    "    for i in range(4):\n",
    "      nx, ny = x + dx[i], y + dy[i]\n",
    "      if 0 <= nx < N and 0 <= ny < N:\n",
    "        if data[nx][ny] > h and not isvisit[nx][ny]:\n",
    "          queue.append([nx,ny])\n",
    "          isvisit[nx][ny] = True\n",
    "\n",
    "N, data, result, maxheight = int(input()), [], [], 0\n",
    "for i in range(N):\n",
    "  data.append(list(map(int,input().split())))\n",
    "  maxheight = max(maxheight,max(data[i]))\n",
    "\n",
    "for h in range(maxheight):\n",
    "  cnt, isvisit = 0, [[False] * N for _ in range(N)]\n",
    "  for i in range(N):\n",
    "    for j in range(N):\n",
    "      if data[i][j] > h and not isvisit[i][j]:\n",
    "        bfs(i,j,h,isvisit)\n",
    "        cnt += 1\n",
    "  result.append(cnt)\n",
    "\n",
    "print(max(result))\n"
   ]
  },
  {
   "cell_type": "code",
   "execution_count": 13,
   "metadata": {},
   "outputs": [
    {
     "name": "stdout",
     "output_type": "stream",
     "text": [
      "0\n",
      "1\n",
      "1\n",
      "3\n",
      "1\n",
      "9\n"
     ]
    }
   ],
   "source": [
    "# 4963 섬의 개수\n",
    "import sys\n",
    "sys.setrecursionlimit(10**6)\n",
    "sys.stdin = open('input.txt','r')\n",
    "input = sys.stdin.readline\n",
    "from collections import deque\n",
    "\n",
    "dx, dy = [0,0,1,-1,1,1,-1,-1], [1,-1,0,0,1,-1,1,-1]\n",
    "\n",
    "def bfs(x,y,isvisit):\n",
    "  queue = deque([(x,y)])\n",
    "  isvisit[x][y] = True\n",
    "  while queue:\n",
    "    x,y = queue.popleft()\n",
    "    for i in range(8):\n",
    "      nx,ny = x + dx[i], y + dy[i]\n",
    "      if 0 <= nx < h and 0 <= ny < w:\n",
    "        if graph[nx][ny] and not isvisit[nx][ny]:\n",
    "          isvisit[nx][ny] = True\n",
    "          queue.append([nx,ny])\n",
    "\n",
    "\n",
    "while True:\n",
    "  w, h = map(int,input().split())\n",
    "  if (w, h) == (0, 0): break\n",
    "  graph = [list(map(int,input().split())) for _ in range(h)]\n",
    "  isvisit = [[False] * w for _ in range(h)]\n",
    "  cnt = 0\n",
    "  for i in range(h):\n",
    "    for j in range(w):\n",
    "      if graph[i][j] == 1 and not isvisit[i][j]:\n",
    "        bfs(i,j,isvisit)\n",
    "        cnt += 1\n",
    "  print(cnt)"
   ]
  },
  {
   "cell_type": "code",
   "execution_count": 37,
   "metadata": {},
   "outputs": [
    {
     "name": "stdout",
     "output_type": "stream",
     "text": [
      "4\n",
      "6\n",
      "1\n",
      "3\n",
      "1\n",
      "4\n"
     ]
    }
   ],
   "source": [
    "# 11725 트리의 부모 찾기\n",
    "import sys\n",
    "sys.setrecursionlimit(10**6)\n",
    "sys.stdin = open('input.txt','r')\n",
    "input = sys.stdin.readline\n",
    "from collections import deque\n",
    "\n",
    "def bfs(x):\n",
    "  queue = deque([(x)])\n",
    "  visit[x] = True\n",
    "  while queue:\n",
    "    x = queue.popleft()\n",
    "    for i in graph[x]:\n",
    "      if not visit[i]:\n",
    "        visit[i] = True\n",
    "        answer[i] = x\n",
    "        queue.appendleft(i)\n",
    "\n",
    "N = int(input())\n",
    "graph = [[] for _ in range(N + 1)]\n",
    "visit, answer = [False] * (N + 1), [0] * (N + 1)\n",
    "for _ in range(N - 1):\n",
    "  a, b = map(int,input().split())\n",
    "  graph[a].append(b)\n",
    "  graph[b].append(a)\n",
    "\n",
    "bfs(1)\n",
    "for i in answer[2:]:\n",
    "  print(i)"
   ]
  },
  {
   "cell_type": "code",
   "execution_count": 53,
   "metadata": {},
   "outputs": [
    {
     "name": "stdout",
     "output_type": "stream",
     "text": [
      "5\n",
      "28\n",
      "0\n"
     ]
    }
   ],
   "source": [
    "# 7562 나이트의 이동\n",
    "import sys\n",
    "sys.setrecursionlimit(10**6)\n",
    "sys.stdin = open('input.txt','r')\n",
    "input = sys.stdin.readline\n",
    "from collections import deque\n",
    "\n",
    "dx = [1,1,-1,-1,2,2,-2,-2]\n",
    "dy = [2,-2,2,-2,1,-1,1,-1]\n",
    "\n",
    "def bfs(x,y,visit):\n",
    "  queue = deque([(x,y)])\n",
    "  visit[x][y] = True\n",
    "  while queue:\n",
    "    x,y = queue.popleft()\n",
    "    if (x,y) == (ex,ey):\n",
    "      print(graph[x][y])\n",
    "      break\n",
    "    for i in range(8):\n",
    "      nx, ny = x + dx[i], y + dy[i]\n",
    "      if 0 <= nx < l and 0 <= ny < l:\n",
    "        if not graph[nx][ny] and not visit[nx][ny]:\n",
    "          graph[nx][ny] = graph[x][y] + 1\n",
    "          visit[nx][ny] = True\n",
    "          if (nx,ny) == (ex,ey):\n",
    "            queue.appendleft([nx,ny])\n",
    "          else:\n",
    "            queue.append([nx,ny])\n",
    "       \n",
    "\n",
    "\n",
    "for _ in range(int(input())):\n",
    "  l = int(input())\n",
    "  graph, visit = [[0] * l for _ in range(l)], [[False] * l for _ in range(l)]\n",
    "  sx,sy = map(int, input().split())\n",
    "  ex,ey = map(int, input().split())\n",
    "  bfs(sx,sy,visit)"
   ]
  },
  {
   "cell_type": "code",
   "execution_count": 76,
   "metadata": {},
   "outputs": [
    {
     "name": "stdout",
     "output_type": "stream",
     "text": [
      "15\n"
     ]
    }
   ],
   "source": [
    "# 2206 벽 부수고 이동하기\n",
    "import sys\n",
    "sys.setrecursionlimit(10**6)\n",
    "sys.stdin = open('input.txt','r')\n",
    "input = sys.stdin.readline\n",
    "from collections import deque\n",
    "\n",
    "dx,dy = [1,-1,0,0],[0,0,1,-1]\n",
    "\n",
    "def bfs(x,y,z):\n",
    "  queue = deque([(x,y,z)])\n",
    "  visit[x][y][z] = 1\n",
    "  while queue:\n",
    "    x, y, z = queue.popleft()\n",
    "    if x == N - 1 and y == M - 1:\n",
    "      return visit[x][y][z]\n",
    "    for i in range(4):\n",
    "      nx, ny = x + dx[i], y + dy[i]\n",
    "      if 0 <= nx < N and 0 <= ny < M:\n",
    "        if graph[nx][ny] and not z:\n",
    "          visit[nx][ny][1] = visit[x][y][0] + 1\n",
    "          queue.append([nx,ny,1])\n",
    "        elif not graph[nx][ny] and not visit[nx][ny][z]:\n",
    "          visit[nx][ny][z] = visit[x][y][z] + 1\n",
    "          queue.append([nx,ny,z])\n",
    "  return -1\n",
    "\n",
    "\n",
    "N,M = map(int, input().split())\n",
    "graph = [list(map(int,input().strip())) for _ in range(N)]\n",
    "visit = [[[0,0] for _ in range(M)] for _ in range(N)]\n",
    "\n",
    "print(bfs(0,0,0))"
   ]
  },
  {
   "cell_type": "code",
   "execution_count": 133,
   "metadata": {},
   "outputs": [
    {
     "name": "stdout",
     "output_type": "stream",
     "text": [
      "3\n",
      "1 7 13\n"
     ]
    }
   ],
   "source": [
    "# 2583 영역 구하기\n",
    "import sys\n",
    "sys.setrecursionlimit(10**6)\n",
    "sys.stdin = open('input.txt','r')\n",
    "input = sys.stdin.readline\n",
    "from collections import deque\n",
    "\n",
    "dx, dy = [1,-1,0,0],[0,0,1,-1]\n",
    "\n",
    "def bfs(x,y):\n",
    "  cnt = 1\n",
    "  queue = deque([(x,y)])\n",
    "  graph[x][y] = 1\n",
    "\n",
    "  while queue:\n",
    "    x, y = queue.popleft()\n",
    "    for i in range(4):\n",
    "      nx, ny = x + dx[i], y + dy[i]\n",
    "      if 0 <= nx < M and 0 <= ny < N:\n",
    "        if not graph[nx][ny] and graph[x][y]:\n",
    "          graph[nx][ny] = graph[x][y] + 1\n",
    "          queue.append([nx,ny])\n",
    "          cnt += 1\n",
    "  result.append(cnt)\n",
    "\n",
    "\n",
    "\n",
    "M,N,K = map(int,input().split())\n",
    "graph = [[0] * (N) for _ in range(M)]\n",
    "\n",
    "result,cnt = [],0\n",
    "for _ in range(K):\n",
    "  a,b,c,d = map(int,input().split())\n",
    "  for i in range(M):\n",
    "    for j in range(N):\n",
    "      if b <= i < d and a <= j < c and not graph[i][j]:\n",
    "        graph[i][j] = 1\n",
    "\n",
    "for i in range(M):\n",
    "  for j in range(N):\n",
    "    if not graph[i][j]:\n",
    "      bfs(i,j)\n",
    "      cnt += 1\n",
    "\n",
    "result.sort()\n",
    "print(cnt)\n",
    "print(*result)"
   ]
  },
  {
   "cell_type": "code",
   "execution_count": null,
   "metadata": {},
   "outputs": [],
   "source": []
  }
 ],
 "metadata": {
  "kernelspec": {
   "display_name": "JS",
   "language": "python",
   "name": "python3"
  },
  "language_info": {
   "codemirror_mode": {
    "name": "ipython",
    "version": 3
   },
   "file_extension": ".py",
   "mimetype": "text/x-python",
   "name": "python",
   "nbconvert_exporter": "python",
   "pygments_lexer": "ipython3",
   "version": "3.11.5"
  }
 },
 "nbformat": 4,
 "nbformat_minor": 2
}
