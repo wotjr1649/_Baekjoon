{
 "cells": [
  {
   "cell_type": "code",
   "execution_count": null,
   "metadata": {},
   "outputs": [],
   "source": [
    "import sys\n",
    "\n",
    "# 자기 호출 개수 제한\n",
    "sys.setrecursionlimit(10**6)\n",
    "\n",
    "#테스트용 파일(\"input.txt\") 읽기\n",
    "sys.stdin = open(\"input.txt\", \"r\")\n",
    "\n",
    "# 주어진 파일을 한 줄씩 입력\n",
    "input = sys.stdin.readline"
   ]
  },
  {
   "cell_type": "code",
   "execution_count": 17,
   "metadata": {},
   "outputs": [
    {
     "name": "stdout",
     "output_type": "stream",
     "text": [
      "46\n",
      "46\n"
     ]
    }
   ],
   "source": [
    "# 큰 수의 법칙\n",
    "import sys\n",
    "sys.setrecursionlimit(10**6)\n",
    "sys.stdin = open(\"input.txt\",\"r\")\n",
    "input = sys.stdin.readline\n",
    "\n",
    "N, M, K = map(int, input().split())\n",
    "li = list(map(int,input().split()))\n",
    "li.sort()\n",
    "\n",
    "# 방법 1\n",
    "cnt = 1\n",
    "result = 0\n",
    "for i in range(M):\n",
    "  if cnt < 4:\n",
    "    result += li[-1]\n",
    "    cnt += 1\n",
    "  else:\n",
    "    result += li[-2]\n",
    "    cnt = 1\n",
    "print(result)\n",
    "\n",
    "# 방법 2\n",
    "result = 0\n",
    "cnt = int(M/(K+1))*K\n",
    "cnt += M % (K + 1)\n",
    "\n",
    "result += (count) * li[-1]\n",
    "result += (M-count)*li[-2]\n",
    "print(result)"
   ]
  },
  {
   "cell_type": "code",
   "execution_count": 21,
   "metadata": {},
   "outputs": [
    {
     "name": "stdout",
     "output_type": "stream",
     "text": [
      "3\n"
     ]
    }
   ],
   "source": [
    "# 숫자 카드 게임\n",
    "import sys\n",
    "sys.setrecursionlimit(10**6)\n",
    "sys.stdin = open(\"input.txt\",'r')\n",
    "input = sys.stdin.readline\n",
    "\n",
    "n, m = map(int,input().split())\n",
    "li = [list(map(int,input().split())) for _ in range(n)]\n",
    "result = 0\n",
    "\n",
    "for i in range(n):\n",
    "  result = max(result,min(li[i]))\n",
    "\n",
    "print(result)\n",
    "\n",
    "#input\n",
    "# 3 3\n",
    "# 3 1 2\n",
    "# 4 1 4\n",
    "# 2 2 2"
   ]
  },
  {
   "cell_type": "code",
   "execution_count": 26,
   "metadata": {},
   "outputs": [
    {
     "name": "stdout",
     "output_type": "stream",
     "text": [
      "2\n"
     ]
    }
   ],
   "source": [
    "# 1이 될 때 까지\n",
    "import sys\n",
    "sys.stdin = open('input.txt','r')\n",
    "input = sys.stdin.readline\n",
    "\n",
    "N, K = map(int,input().split())\n",
    "cnt = 0\n",
    "while N > 1:\n",
    "  if N % K == 0:\n",
    "    N /= K\n",
    "  else:\n",
    "    N -= 1\n",
    "  cnt += 1\n",
    "\n",
    "print(cnt)\n",
    "\n",
    "#Input 25 5"
   ]
  },
  {
   "cell_type": "code",
   "execution_count": 34,
   "metadata": {},
   "outputs": [
    {
     "name": "stdout",
     "output_type": "stream",
     "text": [
      "3 4\n"
     ]
    }
   ],
   "source": [
    "# 상하좌우\n",
    "import sys\n",
    "sys.stdin = open('input.txt','r')\n",
    "input = sys.stdin.readline\n",
    "\n",
    "direction = {'D':(1,0),'U':(-1,0),'R':(0,1),'L':(0,-1)}\n",
    "start=[1,1]\n",
    "\n",
    "n = int(input())\n",
    "data = list(map(str,input().split()))\n",
    "\n",
    "for i in range(len(data)):\n",
    "  x, y = direction[data[i]]\n",
    "  if 0 < start[0] + x < n and 0 < start[1] + y < n:\n",
    "    start[0] , start[1] = start[0] + x, start[1] + y\n",
    "\n",
    "print(start[0], start[1])\n"
   ]
  },
  {
   "cell_type": "code",
   "execution_count": 11,
   "metadata": {},
   "outputs": [
    {
     "name": "stdout",
     "output_type": "stream",
     "text": [
      "11475\n"
     ]
    }
   ],
   "source": [
    "# 시각\n",
    "import sys\n",
    "sys.setrecursionlimit(10**6)\n",
    "sys.stdin =open(\"input.txt\",'r')\n",
    "input = sys.stdin.readline\n",
    "\n",
    "N = int(input())\n",
    "cnt = 0\n",
    "for h in range(N + 1):\n",
    "  for m in range(60):\n",
    "    for s in range(60):\n",
    "      if '3' in str(h) + str(m) + str(s): \n",
    "        cnt += 1\n",
    "\n",
    "print(cnt)"
   ]
  },
  {
   "cell_type": "code",
   "execution_count": 25,
   "metadata": {},
   "outputs": [
    {
     "name": "stdout",
     "output_type": "stream",
     "text": [
      "8\n"
     ]
    }
   ],
   "source": [
    "# 왕실의 나이트\n",
    "\n",
    "import sys\n",
    "sys.setrecursionlimit(10 ** 6)\n",
    "sys.stdin = open(\"input.txt\",\"r\")\n",
    "input = sys.stdin.readline\n",
    "\n",
    "direction = [(1,2),(1,-2),(-1,2),(-1,-2),(2,1),(2,-1),(-2,1),(-2,-1)]\n",
    "chess_map = [[0] * 8 for _ in range(8)]\n",
    "\n",
    "t = input()\n",
    "row, col = int(t[1]) - 1, int(ord(t[0]) - ord('a'))\n",
    "cnt = 0\n",
    "for dx, dy in direction:\n",
    "  if 0 <= row + dx < 8 and 0 <= col + dy < 8:\n",
    "    cnt += 1\n",
    "\n",
    "print(cnt)\n",
    "# input a1\n",
    "# output > 2"
   ]
  },
  {
   "cell_type": "code",
   "execution_count": 56,
   "metadata": {},
   "outputs": [
    {
     "name": "stdout",
     "output_type": "stream",
     "text": [
      "3\n"
     ]
    }
   ],
   "source": [
    "# 게임 개발\n",
    "import sys\n",
    "sys.setrecursionlimit(10**6)\n",
    "sys.stdin = open(\"input.txt\",'r')\n",
    "input = sys.stdin.readline\n",
    "\n",
    "dx = [1,0,-1,0]\n",
    "dy = [0,1,0,-1]\n",
    "dz = [0,1,2,3]\n",
    "\n",
    "n, m = map(int,input().split())\n",
    "x, y, d = map(int,input().split())\n",
    "data = [list(map(int,input().split())) for _ in range(n)]\n",
    "isVisit = [[False] * m for _ in range(n)]\n",
    "\n",
    "isVisit[x][y] = True\n",
    "d = dz[dz.index(d)]\n",
    "cnt = 0\n",
    "sea = False\n",
    "while True:\n",
    "\n",
    "  d = dz[dz.index(d) - 1]\n",
    "  if isVisit[x + dx[d]][y + dy[d]] == False and 0 <= x + dx[d] < n and 0 <= y + dy[d] < n:\n",
    "    isVisit[x + dx[d]][y + dy[d]] = True\n",
    "    x += dx[d]\n",
    "    y += dy[d]\n",
    "  else:\n",
    "    for i in range(4):\n",
    "      if 0 <= x + dx[d] < n and 0 <= y + dy[d] < n:\n",
    "        if isVisit[x + dx[d]][y + dy[d]] == True or data[x + dx[d]][y + dy[d]] == 1:\n",
    "          x += dx[d - 2]\n",
    "          y += dy[d - 2]\n",
    "          if data[x][y] == 1:\n",
    "            sea = True\n",
    "            break\n",
    "  if sea:\n",
    "    break\n",
    "  cnt += 1\n",
    "\n",
    "print(cnt)\n",
    "\n",
    "#input\n",
    "#4 4\n",
    "#1 1 0\n",
    "#1 1 1 1\n",
    "#1 0 0 1\n",
    "#1 1 0 1\n",
    "#1 1 1 1"
   ]
  },
  {
   "cell_type": "code",
   "execution_count": 86,
   "metadata": {},
   "outputs": [
    {
     "name": "stdout",
     "output_type": "stream",
     "text": [
      "8\n"
     ]
    }
   ],
   "source": [
    "# 음료수 얼려 먹기\n",
    "import sys\n",
    "from collections import deque\n",
    "sys.setrecursionlimit(10**6)\n",
    "sys.stdin = open('input.txt','r')\n",
    "input = sys.stdin.readline\n",
    "\n",
    "dx = [0,0,1,-1]\n",
    "dy = [1,-1,0,0]\n",
    "\n",
    "def bfs(x,y,visited):\n",
    "  queue = deque([(x,y)])\n",
    "  visited[x][y] = True\n",
    "  while queue:\n",
    "    x,y = queue.popleft()\n",
    "\n",
    "    for i in range(4):\n",
    "      nx = x + dx[i]\n",
    "      ny = y + dy[i]\n",
    "      if 0 <= nx < n and 0 <= ny < m and not visited[nx][ny] and not data[nx][ny]:\n",
    "        queue.append([nx,ny])\n",
    "        visited[nx][ny] = True\n",
    "\n",
    "\n",
    "\n",
    "n,m = map(int,input().split())\n",
    "data = [list(map(int,input().strip())) for _ in range(n)]\n",
    "visited = [[False] * m for _ in range(n)]\n",
    "cnt = 0\n",
    "for i in range(n):\n",
    "  for j in range(m):\n",
    "    if not data[i][j] and not visited[i][j]:\n",
    "      bfs(i,j,visited)\n",
    "      cnt += 1\n",
    "\n",
    "print(cnt)\n",
    "\n",
    "# input\n",
    "# 15 14\n",
    "# 00000111100000\n",
    "# 11111101111110\n",
    "# 11011101101110\n",
    "# 11011101100000\n",
    "# 11011111111111\n",
    "# 11011111111100\n",
    "# 11000000011111\n",
    "# 01111111111111\n",
    "# 00000000011111\n",
    "# 01111111111000\n",
    "# 00011111111000\n",
    "# 00000001111000\n",
    "# 11111111110011\n",
    "# 11100011111111\n",
    "# 11100011111111\n",
    "# output > 8"
   ]
  },
  {
   "cell_type": "code",
   "execution_count": 100,
   "metadata": {},
   "outputs": [
    {
     "name": "stdout",
     "output_type": "stream",
     "text": [
      "10\n"
     ]
    }
   ],
   "source": [
    "# 미로 탈출\n",
    "import sys\n",
    "sys.setrecursionlimit(10**6)\n",
    "sys.stdin = open('input.txt','r')\n",
    "input = sys.stdin.readline\n",
    "\n",
    "dx = [0,0,1,-1]\n",
    "dy = [1,-1,0,0]\n",
    "\n",
    "n, m = map(int,input().split())\n",
    "data = [list(map(int,input().strip())) for _ in range(n)]\n",
    "\n",
    "def bfs(x,y):\n",
    "  queue = deque([(x,y)])\n",
    "  visited[x][y] = True\n",
    "\n",
    "  while queue:\n",
    "    x, y = queue.popleft()\n",
    "    for i in range(4):\n",
    "      nx = x + dx[i]\n",
    "      ny = y + dy[i]\n",
    "      if 0 <= nx < n and 0 <= ny < m and data[nx][ny]:\n",
    "        if data[nx][ny] == 1:\n",
    "          data[nx][ny] = data[x][y] + 1\n",
    "          queue.append([nx,ny])\n",
    "  return data[n-1][m-1]\n",
    "\n",
    "print(bfs(0,0))"
   ]
  },
  {
   "cell_type": "code",
   "execution_count": 102,
   "metadata": {},
   "outputs": [
    {
     "name": "stdout",
     "output_type": "stream",
     "text": [
      "[0, 1, 2, 3, 4, 5, 6, 7, 8, 9]\n"
     ]
    }
   ],
   "source": [
    "# 퀵정렬 소스코드\n",
    "\n",
    "array = [5,7,9,0,3,1,6,2,4,8]\n",
    "\n",
    "def quick_sort(array,start,end):\n",
    "  if start >= end:\n",
    "    return\n",
    "  pivot = start\n",
    "  left = start + 1\n",
    "  right = end\n",
    "  while left <= right:\n",
    "    while left <= end and array[left] <= array[pivot]:\n",
    "      left += 1\n",
    "    while right > start and array[right] >= array[pivot]:\n",
    "      right -= 1\n",
    "    if left > right:\n",
    "      array[right], array[pivot] = array[pivot], array[right]\n",
    "    else:\n",
    "      array[left], array[right] = array[right], array[left]\n",
    "  quick_sort(array,start,right-1)\n",
    "  quick_sort(array,right+1, end)\n",
    "\n",
    "quick_sort(array,0,len(array) - 1)\n",
    "print(array)"
   ]
  },
  {
   "cell_type": "code",
   "execution_count": 103,
   "metadata": {},
   "outputs": [
    {
     "name": "stdout",
     "output_type": "stream",
     "text": [
      "[0, 1, 2, 3, 4, 5, 6, 7, 8, 9]\n"
     ]
    }
   ],
   "source": [
    "array = [5,7,9,0,3,1,6,2,4,8]\n",
    "\n",
    "def quick_sort(array):\n",
    "  if len(array) <= 1:\n",
    "    return array\n",
    "  pivot = array[0]\n",
    "  tail = array[1:]\n",
    "\n",
    "  left_side = [x for x in tail if x <= pivot]\n",
    "  right_side = [x for x in tail if x > pivot]\n",
    "\n",
    "  return quick_sort(left_side) + [pivot] + quick_sort(right_side)\n",
    "\n",
    "print(quick_sort(array))"
   ]
  },
  {
   "cell_type": "code",
   "execution_count": 107,
   "metadata": {},
   "outputs": [
    {
     "name": "stdout",
     "output_type": "stream",
     "text": [
      "0 0 1 1 2 2 3 4 5 5 6 7 8 9 9 "
     ]
    }
   ],
   "source": [
    "array = [7,5,9,0,3,1,6,2,9,1,4,8,0,5,2]\n",
    "count = [0] * (max(array) + 1)\n",
    "\n",
    "for i in range(len(array)):\n",
    "  count[array[i]] += 1\n",
    "\n",
    "for i in range(len(count)):\n",
    "  for j in range(count[i]):\n",
    "    print(i,end=' ')"
   ]
  },
  {
   "cell_type": "code",
   "execution_count": 116,
   "metadata": {},
   "outputs": [
    {
     "name": "stdout",
     "output_type": "stream",
     "text": [
      "27 15 12 "
     ]
    }
   ],
   "source": [
    "# 위에서 아래로\n",
    "import sys\n",
    "sys.setrecursionlimit(10**6)\n",
    "sys.stdin = open('input.txt','r')\n",
    "input = sys.stdin.readline\n",
    "\n",
    "N = int(input())\n",
    "data = []\n",
    "for _ in range(N):\n",
    "  data.append(int(input()))\n",
    "data.sort()\n",
    "for i in data[::-1]:\n",
    "  print(i,end=\" \")"
   ]
  },
  {
   "cell_type": "code",
   "execution_count": null,
   "metadata": {},
   "outputs": [],
   "source": [
    "#180 페이지 부터 해야함\n"
   ]
  }
 ],
 "metadata": {
  "kernelspec": {
   "display_name": "JS",
   "language": "python",
   "name": "python3"
  },
  "language_info": {
   "codemirror_mode": {
    "name": "ipython",
    "version": 3
   },
   "file_extension": ".py",
   "mimetype": "text/x-python",
   "name": "python",
   "nbconvert_exporter": "python",
   "pygments_lexer": "ipython3",
   "version": "3.11.5"
  }
 },
 "nbformat": 4,
 "nbformat_minor": 2
}
